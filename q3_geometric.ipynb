{
 "cells": [
  {
   "cell_type": "code",
   "execution_count": 1,
   "metadata": {
    "collapsed": false
   },
   "outputs": [
   ],
   "source": [
    "load(\"utils/cyclic_covers.sage\")\n",
    "load(\"utils/weil_poly_utils.sage\")\n",
    "load(\"utils/printing_tables.sage\")"
   ]
  },
  {
   "cell_type": "code",
   "execution_count": 2,
   "metadata": {
    "collapsed": false
   },
   "outputs": [
   ],
   "source": [
    "import re # Regular expression operations."
   ]
  },
  {
   "cell_type": "markdown",
   "metadata": {
    "collapsed": false
   },
   "source": [
    "# $(q,g) = (3,2)$\n",
    "We start by loading a list of isomorphism classes of function fields $F$ of genus two, defined over $\\mathbb{F}_3$. There are $69$ such isomorphism classes."
   ]
  },
  {
   "cell_type": "code",
   "execution_count": 3,
   "metadata": {
    "collapsed": false
   },
   "outputs": [
    {
     "data": {
      "text/plain": [
       "69"
      ]
     },
     "execution_count": 3,
     "metadata": {
     },
     "output_type": "execute_result"
    }
   ],
   "source": [
    "q = 3\n",
    "k.<a> = GF(q)\n",
    "P.<x,y> = k[]\n",
    "Q.<z> = k[]\n",
    "z = Q.gen()\n",
    "q3_g2 = []\n",
    "with open(\"curve-data/equations_q3_g2.txt\") as f:\n",
    "    for i in range(3): # Ignore header lines\n",
    "        _ = f.readline()\n",
    "    for s in f:\n",
    "        s1 = re.match(r'\\{(.*)\\}\\|.*', s).groups()[0]\n",
    "        for s2 in s1.split(','):\n",
    "            f = s2.split('=')[1]\n",
    "            f = sage_eval(f, locals={'x': x, 'y': y})\n",
    "            C = HyperellipticCurve(f(z,0))\n",
    "            q3_g2.append(magma(C).FunctionField().AlgorithmicFunctionField())\n",
    "len(q3_g2)"
   ]
  },
  {
   "cell_type": "markdown",
   "metadata": {
    "collapsed": false
   },
   "source": [
    "## $(q,g,g') = (3,2,3)$\n",
    "\n",
    "We loop over this list and save the quadratic extensions with relative class number two with $g'=3$. We find $19$ such extensions.\n",
    "\n"
   ]
  },
  {
   "cell_type": "code",
   "execution_count": 4,
   "metadata": {
    "collapsed": false
   },
   "outputs": [
    {
     "data": {
      "text/plain": [
       "19"
      ]
     },
     "execution_count": 4,
     "metadata": {
     },
     "output_type": "execute_result"
    }
   ],
   "source": [
    "q3_g2_d2_gg3 = []\n",
    "for F in q3_g2:\n",
    "    h = 0\n",
    "    for F1 in cyclic_covers(F, d=2, q=3):\n",
    "        if h == 0:\n",
    "            h = F.ClassNumber()\n",
    "        if F1.ClassNumber()/h == 2:\n",
    "            assert F1.Genus() == 3\n",
    "            q3_g2_d2_gg3.append((F, F1))\n",
    "len(q3_g2_d2_gg3)"
   ]
  },
  {
   "cell_type": "markdown",
   "metadata": {
    "collapsed": false
   },
   "source": [
    "We proceed to save and print the tables."
   ]
  },
  {
   "cell_type": "code",
   "execution_count": 5,
   "metadata": {
    "collapsed": false
   },
   "outputs": [
    {
     "name": "stdout",
     "output_type": "stream",
     "text": [
      "Table tables/table_q3_g2_d2_gg3.txt saved!\n"
     ]
    },
    {
     "name": "stdout",
     "output_type": "stream",
     "text": [
      "\\begin{table}[ht] \n",
      "    \\setlength{\\arrayrulewidth}{0.2mm}\n",
      "    \\setlength{\\tabcolsep}{5pt} \n",
      "    \\renewcommand{\\arraystretch}{1.2}\n",
      "    \\centering \n",
      "    \\begin{tabular}{|c|c|}\n",
      "        \\hline\n",
      "        \\rowcolor{headercolor}\n",
      "        $J$ & $F$ \\\\\n",
      "        \\hline\n",
      "        \\avlink{2.3.a_ac} & $y^{2} + 2 x^{5} + x$ \\\\\n",
      "        \\hline\n",
      "        \\avlink{2.3.a_ac} & $y^{2} + 2 x^{5} + x$ \\\\\n",
      "        \\hline\n",
      "        \\avlink{2.3.a_ac} & $y^{2} + 2 x^{5} + x$ \\\\\n",
      "        \\hline\n",
      "        \\avlink{2.3.a_ac} & $y^{2} + 2 x^{5} + x$ \\\\\n",
      "        \\hline\n",
      "        \\avlink{2.3.a_a} & $y^{2} + 2 x^{5} + 1$ \\\\\n",
      "        \\hline\n",
      "        \\avlink{2.3.a_a} & $y^{2} + x^{5} + 2$ \\\\\n",
      "        \\hline\n",
      "        \\avlink{2.3.a_c} & $y^{2} + 2 x^{5} + 2 x$ \\\\\n",
      "        \\hline\n",
      "        \\avlink{2.3.a_c} & $y^{2} + 2 x^{5} + 2 x$ \\\\\n",
      "        \\hline\n",
      "        \\avlink{2.3.a_e} & $y^{2} + 2 x^{6} + x^{5} + 2 x + 1$ \\\\\n",
      "        \\hline\n",
      "        \\avlink{2.3.ac_c} & $y^{2} + x^{5} + 2 x^{4} + 2 x^{3} + 2 x^{2} + 2 x + 1$ \\\\\n",
      "        \\hline\n",
      "        \\avlink{2.3.ac_c} & $y^{2} + x^{6} + x^{5} + 2 x^{4} + 2 x^{2} + 2 x + 1$ \\\\\n",
      "        \\hline\n",
      "        \\avlink{2.3.ac_e} & $y^{2} + x^{6} + 2 x^{5} + x^{4} + x + 2$ \\\\\n",
      "        \\hline\n",
      "        \\avlink{2.3.ac_g} & $y^{2} + x^{5} + 2 x^{4} + x^{3} + 2 x^{2} + x$ \\\\\n",
      "        \\hline\n",
      "        \\avlink{2.3.ac_g} & $y^{2} + x^{6} + x^{5} + 2 x^{4} + 2 x^{3} + 2 x^{2} + x + 1$ \\\\\n",
      "        \\hline\n",
      "        \\avlink{2.3.c_c} & $y^{2} + 2 x^{5} + x^{4} + x^{3} + x^{2} + x + 2$ \\\\\n",
      "        \\hline\n",
      "        \\avlink{2.3.c_c} & $y^{2} + 2 x^{6} + 2 x^{5} + x^{4} + x^{2} + x + 2$ \\\\\n",
      "        \\hline\n",
      "        \\avlink{2.3.c_e} & $y^{2} + 2 x^{6} + x^{5} + 2 x^{4} + 2 x + 1$ \\\\\n",
      "        \\hline\n",
      "        \\avlink{2.3.c_g} & $y^{2} + 2 x^{5} + x^{4} + 2 x^{3} + x^{2} + 2 x$ \\\\\n",
      "        \\hline\n",
      "        \\avlink{2.3.c_g} & $y^{2} + 2 x^{6} + 2 x^{5} + x^{4} + x^{3} + x^{2} + 2 x + 2$ \\\\\n",
      "        \\hline\n",
      "    \\end{tabular} \n",
      "\\caption{Purely geometric covers of type $(q,g,d,g') = (3,2,2,3)$.} \n",
      "\\label{tab:geometric_q3_g2_d2_g'3} \n",
      "\\end{table}\n"
     ]
    }
   ],
   "source": [
    "save_table_from_F1_F_list(q3_g2_d2_gg3,3,2,2,3)\n",
    "print(latex_table_from_F1_F_list(q3_g2_d2_gg3,3,2,2,3))"
   ]
  },
  {
   "cell_type": "markdown",
   "metadata": {
    "collapsed": false
   },
   "source": [
    "## $(q,g,g') = (3,2,4)$\n",
    "\n",
    "We loop over this list and save the quadratic extensions with relative class number two with $g'=4$. We find 4 such extensions.\n",
    "\n"
   ]
  },
  {
   "cell_type": "code",
   "execution_count": 6,
   "metadata": {
    "collapsed": false
   },
   "outputs": [
    {
     "data": {
      "text/plain": [
       "4"
      ]
     },
     "execution_count": 6,
     "metadata": {
     },
     "output_type": "execute_result"
    }
   ],
   "source": [
    "q3_g2_d2_gg4 = []\n",
    "for F in q3_g2:\n",
    "    h = 0\n",
    "    for F1 in cyclic_covers(F, d=2, t=2, q=3):\n",
    "        if h == 0:\n",
    "            h = F.ClassNumber()\n",
    "        if F1.ClassNumber()/h == 2:\n",
    "            assert F1.Genus() == 4\n",
    "            q3_g2_d2_gg4.append((F, F1))\n",
    "len(q3_g2_d2_gg4)"
   ]
  },
  {
   "cell_type": "markdown",
   "metadata": {
    "collapsed": false
   },
   "source": [
    "We proceed to save and print the tables."
   ]
  },
  {
   "cell_type": "code",
   "execution_count": 7,
   "metadata": {
    "collapsed": false
   },
   "outputs": [
    {
     "name": "stdout",
     "output_type": "stream",
     "text": [
      "Table tables/table_q3_g2_d2_gg4.txt saved!\n"
     ]
    },
    {
     "name": "stdout",
     "output_type": "stream",
     "text": [
      "\\begin{table}[ht] \n",
      "    \\setlength{\\arrayrulewidth}{0.2mm}\n",
      "    \\setlength{\\tabcolsep}{5pt} \n",
      "    \\renewcommand{\\arraystretch}{1.2}\n",
      "    \\centering \n",
      "    \\begin{tabular}{|c|c|}\n",
      "        \\hline\n",
      "        \\rowcolor{headercolor}\n",
      "        $J$ & $F$ \\\\\n",
      "        \\hline\n",
      "        \\avlink{2.3.b_c} & $y^{2} + x^{6} + x^{5} + 2 x^{3} + x^{2} + x + 2$ \\\\\n",
      "        \\hline\n",
      "        \\avlink{2.3.c_e} & $y^{2} + 2 x^{6} + x^{5} + 2 x^{4} + 2 x + 1$ \\\\\n",
      "        \\hline\n",
      "        \\avlink{2.3.c_e} & $y^{2} + 2 x^{6} + x^{5} + 2 x^{4} + 2 x + 1$ \\\\\n",
      "        \\hline\n",
      "        \\avlink{2.3.d_g} & $y^{2} + 2 x^{6} + 2 x + 2$ \\\\\n",
      "        \\hline\n",
      "    \\end{tabular} \n",
      "\\caption{Purely geometric covers of type $(q,g,d,g') = (3,2,2,4)$.} \n",
      "\\label{tab:geometric_q3_g2_d2_g'4} \n",
      "\\end{table}\n"
     ]
    }
   ],
   "source": [
    "save_table_from_F1_F_list(q3_g2_d2_gg4,3,2,2,4)\n",
    "print(latex_table_from_F1_F_list(q3_g2_d2_gg4,3,2,2,4))"
   ]
  },
  {
   "cell_type": "markdown",
   "metadata": {
    "collapsed": false
   },
   "source": [
    "# $(q,g) = (3,3)$\n",
    "\n",
    "We start by loading a list of isomorphism classes of function fields $F$ of genus three, defined over $\\mathbb{F}_3$. There are $1331$ such isomorphism classes. We name this list _q3\\_g3_. In contrast with the $g=2$ case, some of these curves are not hyperelliptic.\n"
   ]
  },
  {
   "cell_type": "code",
   "execution_count": 9,
   "metadata": {
    "collapsed": false
   },
   "outputs": [
    {
     "data": {
      "text/plain": [
       "(1331, 97)"
      ]
     },
     "execution_count": 9,
     "metadata": {
     },
     "output_type": "execute_result"
    }
   ],
   "source": [
    "q = 3\n",
    "k = GF(q)\n",
    "Pol.<x,y> = k[]\n",
    "Q.<z> = k[]\n",
    "AA = magma.AffineSpace(Pol)\n",
    "z = Q.gen()\n",
    "q3_g3 = []\n",
    "q3_g3_count7 = []\n",
    "R.<a> = QQ[]\n",
    "with open(\"curve-data/equations_q3_g3.txt\") as f:\n",
    "    for i in range(3): # Ignore header lines\n",
    "        _ = f.readline()\n",
    "    for s in f:\n",
    "        m = re.match(r'\\{(.*)\\}\\|(.*)', s)\n",
    "        label = m.groups()[1]\n",
    "        counts = point_count_from_weil_poly(weil_poly_from_label(R, label), 2, 3)\n",
    "        s1 = re.match(r'\\{(.*)\\}\\|.*', s).groups()[0]\n",
    "        for s2 in s1.split(','):\n",
    "            h,f = s2.split('=')\n",
    "            if h == 'y^2':\n",
    "                f = sage_eval(f, locals={'x': x, 'y': y})\n",
    "                C = HyperellipticCurve(f(z,0))\n",
    "                q3_g3.append(magma(C).FunctionField().AlgorithmicFunctionField())\n",
    "            else:\n",
    "                h = sage_eval(h, locals={'x': x, 'y': y, 'z': 1})\n",
    "                C = magma.Curve(AA, h)\n",
    "                q3_g3.append(C.FunctionField().AlgorithmicFunctionField())\n",
    "            if counts[0] >= 7:\n",
    "                q3_g3_count7.append(q3_g3[-1])\n",
    "len(q3_g3), len(q3_g3_count7)"
   ]
  },
  {
   "cell_type": "markdown",
   "metadata": {
    "collapsed": false
   },
   "source": [
    "## $(q,g,g') = (3,3,5)$\n",
    "\n",
    "We loop over this list and save the quadratic extensions with relative class number two and $g'=5$. We find $15$ such extensions.\n",
    "\n"
   ]
  },
  {
   "cell_type": "code",
   "execution_count": 10,
   "metadata": {
    "collapsed": false
   },
   "outputs": [
   ],
   "source": [
    "q3_g3_d2_gg5 = []\n",
    "for F in q3_g3:\n",
    "    h = 0\n",
    "    for F1 in cyclic_covers(F, d=2, q=3):\n",
    "        if h == 0:\n",
    "            h = F.ClassNumber()\n",
    "        if F1.ClassNumber()/h == 2:\n",
    "            assert F1.Genus() == 5\n",
    "            q3_g3_d2_gg5.append((F, F1))\n",
    "len(q3_g3_d2_gg5)"
   ]
  },
  {
   "cell_type": "markdown",
   "metadata": {
    "collapsed": false
   },
   "source": [
    "We proceed to save and print the tables."
   ]
  },
  {
   "cell_type": "code",
   "execution_count": 35,
   "metadata": {
    "collapsed": false
   },
   "outputs": [
    {
     "name": "stdout",
     "output_type": "stream",
     "text": [
      "Table tables/table_q3_d2_g3_gg5.txt saved!\n"
     ]
    },
    {
     "name": "stdout",
     "output_type": "stream",
     "text": [
      "\\begin{table}[ht] \n",
      "    \\setlength{\\arrayrulewidth}{0.2mm}\n",
      "    \\setlength{\\tabcolsep}{5pt} \n",
      "    \\renewcommand{\\arraystretch}{1.2}\n",
      "    \\centering \n",
      "    \\begin{tabular}{|c|c|}\n",
      "        \\hline\n",
      "        \\rowcolor{headercolor}\n",
      "        $J$ & $F$ \\\\\n",
      "        \\hline\n",
      "        \\avlink{3.3.a_ab_g} & $x y^{3} + \\left(x + 1\\right) y^{2} + y + x^{3}$ \\\\\n",
      "        \\hline\n",
      "        \\avlink{3.3.a_b_ae} & $y^{2} + 2 x^{7} + 2 x^{6} + 2 x^{3} + x^{2} + x + 1$ \\\\\n",
      "        \\hline\n",
      "        \\avlink{3.3.a_b_e} & $y^{2} + x^{7} + x^{6} + x^{3} + 2 x^{2} + 2 x + 2$ \\\\\n",
      "        \\hline\n",
      "        \\avlink{3.3.a_b_e} & $x y^{3} + \\left(2 x^{2} + 2\\right) y^{2} + \\left(x + 1\\right) y + x^{4}$ \\\\\n",
      "        \\hline\n",
      "        \\avlink{3.3.a_d_a} & $y^{2} + 2 x^{8} + 2 x^{7} + 2 x^{6} + x^{2} + 2 x + 1$ \\\\\n",
      "        \\hline\n",
      "        \\avlink{3.3.a_d_a} & $y^{2} + 2 x^{7} + 2 x^{5} + x^{4} + x^{3} + 2 x^{2} + 1$ \\\\\n",
      "        \\hline\n",
      "        \\avlink{3.3.a_d_a} & $y^{3} + x^{3} y + 2 x^{4} + x$ \\\\\n",
      "        \\hline\n",
      "        \\avlink{3.3.b_b_ac} & $y^{2} + 2 x^{7} + x^{5} + 2 x^{4} + 2 x^{2} + 2$ \\\\\n",
      "        \\hline\n",
      "        \\avlink{3.3.b_b_g} & $y^{2} + 2 x^{8} + x^{7} + 2 x^{6} + 2 x^{5} + x^{4} + 2 x^{3} + x^{2} + x$ \\\\\n",
      "        \\hline\n",
      "        \\avlink{3.3.b_d_a} & $y^{2} + x^{8} + 2 x^{7} + x^{2} + x$ \\\\\n",
      "        \\hline\n",
      "        \\avlink{3.3.b_d_e} & $y^{2} + 2 x^{8} + 2 x^{7} + 2 x^{6} + 2 x^{5} + x^{4} + x^{2} + x$ \\\\\n",
      "        \\hline\n",
      "        \\avlink{3.3.b_d_g} & $y^{2} + 2 x^{8} + 2 x^{6} + x^{5} + x^{3} + 2 x^{2} + 2 x + 1$ \\\\\n",
      "        \\hline\n",
      "        \\avlink{3.3.c_d_c} & $y^{3} + x y^{2} + 2 x^{3} y + x^{4} + 2 x^{3} + x^{2} + x$ \\\\\n",
      "        \\hline\n",
      "        \\avlink{3.3.c_h_i} & $y^{3} + \\left(2 x^{2} + 2 x\\right) y^{2} + \\left(2 x^{2} + x\\right) y + x^{4} + 2 x^{3} + x$ \\\\\n",
      "        \\hline\n",
      "        \\avlink{3.3.d_h_o} & $y^{2} + 2 x^{8} + x^{7} + x^{6} + x^{5} + 2 x^{3} + 2 x^{2} + 2 x$ \\\\\n",
      "        \\hline\n",
      "    \\end{tabular} \n",
      "\\caption{Purely geometric covers of type $(q,d,g,g') = (3,2,3,5)$.} \n",
      "\\label{tab:geometric_q3_d2_g3_g'5} \n",
      "\\end{table}\n"
     ]
    }
   ],
   "source": [
    "save_table_from_F1_F_list(q3_g3_d2_gg5,3,3,2,5)\n",
    "print(latex_table_from_F1_F_list(q3_g3_d2_gg5,3,3,2,5))"
   ]
  },
  {
   "cell_type": "markdown",
   "metadata": {
    "collapsed": false
   },
   "source": [
    "## $(q,g,g') = (3,3,6)$\n",
    "\n",
    "We loop over this list and save the quadratic extensions with relative class number two and $g'=6$. We find no such extensions.\n",
    "\n"
   ]
  },
  {
   "cell_type": "code",
   "execution_count": 12,
   "metadata": {
    "collapsed": false
   },
   "outputs": [
    {
     "data": {
      "text/plain": [
       "0"
      ]
     },
     "execution_count": 12,
     "metadata": {
     },
     "output_type": "execute_result"
    }
   ],
   "source": [
    "q3_g3_d2_gg6 = []\n",
    "for F in q3_g3_count7:\n",
    "    a1 = F.NumberOfPlacesOfDegreeOneECF(1)\n",
    "    if a1 < 7 or F.NumberOfPlacesOfDegreeOneECF(2) < 2*a1+1:\n",
    "        continue\n",
    "    h = 0\n",
    "    for F1 in cyclic_covers(F, d=2, t=2, q=3):\n",
    "        if h == 0:\n",
    "            h = F.ClassNumber()\n",
    "        if F1.ClassNumber()/h == 2:\n",
    "            assert F1.Genus() == 6\n",
    "            q3_g3_d2_gg6.append((F, F1))\n",
    "len(q3_g3_d2_gg6)"
   ]
  },
  {
   "cell_type": "markdown",
   "metadata": {
    "collapsed": false
   },
   "source": [
    "# $(q,g) = (3,4)$\n",
    "\n",
    "We start by loading a list of isomorphism classes of function fields $F$ of genus four, defined over $\\mathbb{F}_3$, and retaining only those corresponding to curves $C$ for which $\\#C(\\mathbb{F}_3) \\geq 7$ and $\\#C(\\mathbb{F}_{3^2}) \\geq 2\\#C(\\mathbb{F}_3) + 3$. There are $773$ such isomorphism classes."
   ]
  },
  {
   "cell_type": "code",
   "execution_count": 5,
   "metadata": {
    "collapsed": false
   },
   "outputs": [
    {
     "data": {
      "text/plain": [
       "773"
      ]
     },
     "execution_count": 5,
     "metadata": {
     },
     "output_type": "execute_result"
    }
   ],
   "source": [
    "q = 3\n",
    "k = GF(q)\n",
    "Pol.<x,y,z,t> = k[]\n",
    "x,y,z,t = Pol.gens()\n",
    "Q.<w> = k[]\n",
    "P3 = magma.ProjectiveSpace(Pol)\n",
    "w = Q.gen()\n",
    "q3_g4 = []\n",
    "R.<a> = QQ[]\n",
    "with open(\"curve-data/equations_q3_g4.txt\") as f:\n",
    "    for i in range(3): # Ignore header lines\n",
    "        _ = f.readline()\n",
    "    for s in f:\n",
    "        m = re.match(r'\\{(.*)\\}\\|(.*)', s)\n",
    "        label = m.groups()[1]\n",
    "        counts = point_count_from_weil_poly(weil_poly_from_label(R, label), 2, 3)\n",
    "        if not (counts[0] >= 7 and counts[1] >= 2*counts[0]+3):\n",
    "            continue\n",
    "        s1 = m.groups()[0]\n",
    "        for s2 in s1.split(','):\n",
    "            if s2.count('=') == 1: # hyperelliptic curve\n",
    "                _,f = s2.split('=')\n",
    "                f = sage_eval(f, locals={'x': x})\n",
    "                C = HyperellipticCurve(f(w,0,0,0))\n",
    "                q3_g4.append(magma(C).FunctionField().AlgorithmicFunctionField())\n",
    "            else: # complete intersection\n",
    "                h,f,_ = s2.split('=')\n",
    "                h = sage_eval(h, locals={'x': x, 'y': y, 'z': z, 't': t})\n",
    "                f = sage_eval(f, locals={'x': x, 'y': y, 'z': z, 't': t})\n",
    "                C = P3.Scheme([h,f])\n",
    "                q3_g4.append(C.FunctionField().AlgorithmicFunctionField())\n",
    "len(q3_g4)"
   ]
  },
  {
   "cell_type": "markdown",
   "metadata": {
    "collapsed": false
   },
   "source": [
    "## $(q,g,g') = (3,4,7)$\n",
    "\n",
    "We loop over this list and save the quadratic extensions with relative class number two and $g'=7$. We find 2 such extensions.\n"
   ]
  },
  {
   "cell_type": "code",
   "execution_count": 6,
   "metadata": {
    "collapsed": false
   },
   "outputs": [
    {
     "name": "stdout",
     "output_type": "stream",
     "text": [
      "Algebraic function field defined over Univariate rational function field over GF(3) by\n",
      "$.1^2 + w^9 + 2*w^8 + w^5 + w^2 + w + 2\n"
     ]
    },
    {
     "name": "stdout",
     "output_type": "stream",
     "text": [
      "Algebraic function field defined over Univariate rational function field over GF(3) by\n",
      "$.1^2 + 2*w^9 + w^8 + w^6 + w^5 + w^4 + 2\n"
     ]
    },
    {
     "data": {
      "text/plain": [
       "2"
      ]
     },
     "execution_count": 6,
     "metadata": {
     },
     "output_type": "execute_result"
    }
   ],
   "source": [
    "q3_g4_d2_gg7 = []\n",
    "for F in q3_g4:\n",
    "    h = 0\n",
    "    for F1 in cyclic_covers(F, d=2, q=3):\n",
    "        if h == 0:\n",
    "            h = F.ClassNumber()\n",
    "        if F1.ClassNumber()/h == 2:\n",
    "            q3_g4_d2_gg7.append((F, F1))\n",
    "            print(F)\n",
    "len(q3_g4_d2_gg7)"
   ]
  },
  {
   "cell_type": "markdown",
   "metadata": {
    "collapsed": false
   },
   "source": [
    "We proceed to save and print the tables."
   ]
  },
  {
   "cell_type": "code",
   "execution_count": 7,
   "metadata": {
    "collapsed": false
   },
   "outputs": [
    {
     "name": "stdout",
     "output_type": "stream",
     "text": [
      "Table tables/table_q3_g4_d2_gg7.txt saved!\n"
     ]
    },
    {
     "name": "stdout",
     "output_type": "stream",
     "text": [
      "\\begin{table}[ht] \n",
      "    \\setlength{\\arrayrulewidth}{0.2mm}\n",
      "    \\setlength{\\tabcolsep}{5pt} \n",
      "    \\renewcommand{\\arraystretch}{1.2}\n",
      "    \\centering \n",
      "    \\begin{tabular}{|c|c|}\n",
      "        \\hline\n",
      "        \\rowcolor{headercolor}\n",
      "        $J$ & $F$ \\\\\n",
      "        \\hline\n",
      "        \\avlink{4.3.d_i_n_ba} & $y^{2} + x^{9} + 2 x^{8} + x^{5} + x^{2} + x + 2$ \\\\\n",
      "        \\hline\n",
      "        \\avlink{4.3.d_i_t_bi} & $y^{2} + 2 x^{9} + x^{8} + x^{6} + x^{5} + x^{4} + 2$ \\\\\n",
      "        \\hline\n",
      "    \\end{tabular} \n",
      "\\caption{Purely geometric covers of type $(q,g,d,g') = (3,4,2,7)$.} \n",
      "\\label{tab:geometric_q3_g4_d2_g'7} \n",
      "\\end{table}\n"
     ]
    }
   ],
   "source": [
    "save_table_from_F1_F_list(q3_g4_d2_gg7,3,4,2,7)\n",
    "print(latex_table_from_F1_F_list(q3_g4_d2_gg7,3,4,2,7))"
   ]
  },
  {
   "cell_type": "markdown",
   "metadata": {
    "collapsed": false
   },
   "source": [
    "## Proof of Lemma 7.1"
   ]
  },
  {
   "cell_type": "code",
   "execution_count": 7,
   "metadata": {
    "collapsed": false
   },
   "outputs": [
    {
     "name": "stdout",
     "output_type": "stream",
     "text": [
      "8\n"
     ]
    },
    {
     "name": "stdout",
     "output_type": "stream",
     "text": [
      "8\n"
     ]
    },
    {
     "name": "stdout",
     "output_type": "stream",
     "text": [
      "8\n"
     ]
    },
    {
     "name": "stdout",
     "output_type": "stream",
     "text": [
      "16\n"
     ]
    },
    {
     "name": "stdout",
     "output_type": "stream",
     "text": [
      "16\n"
     ]
    },
    {
     "name": "stdout",
     "output_type": "stream",
     "text": [
      "16\n"
     ]
    }
   ],
   "source": [
    "Pol.<x,y,z> = GF(3)[]\n",
    "f = x^4 + 2*x^3*z + x^2*y^2 + x*z^3 + y^4\n",
    "P2 = magma.ProjectiveSpace(Pol)\n",
    "C = P2.Scheme([f])\n",
    "F = C.FunctionField().AlgorithmicFunctionField()\n",
    "h = F.ClassNumber()\n",
    "for F1 in cyclic_covers(F, d=2, q=3):\n",
    "    print(F1.ClassNumber()/h)"
   ]
  },
  {
   "cell_type": "markdown",
   "metadata": {
    "collapsed": false
   },
   "source": [
    "## Proof of Lemma 7.3"
   ]
  },
  {
   "cell_type": "code",
   "execution_count": 8,
   "metadata": {
    "collapsed": false
   },
   "outputs": [
   ],
   "source": [
    "Pol.<x> = GF(3)[]\n",
    "l = [x^5+2*x^4+2*x^3+2*x^2+2*x+1, x^6+x^5+2*x^4+2*x^2+2*x+1,\n",
    "    x^6+2*x^5+x^4+x+2, x^5+x^2+2*x,\n",
    "    x^5+2*x^4+x^3+2*x^2+x, x^6+x^5+2*x^4+2*x^3+2*x^2+x+1]\n",
    "l1 = []\n",
    "for f in l:\n",
    "    C = HyperellipticCurve(f)\n",
    "    F = magma(C).FunctionField().AlgorithmicFunctionField()\n",
    "    h = F.ClassNumber()\n",
    "    for F1 in cyclic_covers(F, d=2, q=3):\n",
    "        h1 = F1.ClassNumber()\n",
    "        if h1/h == 6:\n",
    "            for F2 in cyclic_covers(F1, d=3, q=3):\n",
    "                if F2.ClassNumber()/h1 == 4:\n",
    "                    l1.append((f, F, F1, F2))"
   ]
  },
  {
   "cell_type": "code",
   "execution_count": 16,
   "metadata": {
    "collapsed": false
   },
   "outputs": [
    {
     "name": "stdout",
     "output_type": "stream",
     "text": [
      "x^6 + x^5 + 2*x^4 + 2*x^2 + 2*x + 1\n"
     ]
    },
    {
     "name": "stdout",
     "output_type": "stream",
     "text": [
      "9*$.1^4 + 6*$.1^3 + 2*$.1^2 + 2*$.1 + 1\n"
     ]
    },
    {
     "name": "stdout",
     "output_type": "stream",
     "text": [
      "9*$.1^4 - 12*$.1^3 + 8*$.1^2 - 4*$.1 + 1\n"
     ]
    }
   ],
   "source": [
    "for (f, F, F1, F2) in l1:\n",
    "    print(f)\n",
    "    print(F.ZetaFunction().Numerator())\n",
    "    print((F2.ZetaFunction()/F1.ZetaFunction()).Sqrt())"
   ]
  }
 ],
 "metadata": {
  "kernelspec": {
   "argv": [
    "sage",
    "--python",
    "-m",
    "sage.repl.ipython_kernel",
    "--matplotlib=inline",
    "-f",
    "{connection_file}"
   ],
   "display_name": "SageMath",
   "env": {
   },
   "language": "sagemath",
   "metadata": {
    "cocalc": {
     "description": "Open-source mathematical software system",
     "priority": 1,
     "url": "https://www.sagemath.org/"
    }
   },
   "name": "sagemath",
   "resource_dir": "/usr/local/share/jupyter/kernels/sagemath"
  },
  "language_info": {
   "codemirror_mode": {
    "name": "ipython",
    "version": 3
   },
   "file_extension": ".py",
   "mimetype": "text/x-python",
   "name": "python",
   "nbconvert_exporter": "python",
   "pygments_lexer": "ipython3",
   "version": "3.11.1"
  }
 },
 "nbformat": 4,
 "nbformat_minor": 4
}