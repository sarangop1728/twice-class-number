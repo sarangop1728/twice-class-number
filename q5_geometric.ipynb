{
 "cells": [
  {
   "cell_type": "code",
   "execution_count": 9,
   "metadata": {
    "collapsed": false
   },
   "outputs": [
   ],
   "source": [
    "load(\"utils/cyclic_covers.sage\")\n",
    "load(\"utils/weil_poly_utils.sage\")\n",
    "load(\"utils/printing_tables.sage\")"
   ]
  },
  {
   "cell_type": "markdown",
   "metadata": {
    "collapsed": false
   },
   "source": [
    "# $(q,g)=(5,2)$\n",
    "In this notebook we calculate all purely geometric extensions $F'/F$ over $\\mathbb{F}_5$ that have relative class number $2$. We show in the article that these are all degree $d =2$, unramified, and with $(g,g') = (2,3)$."
   ]
  },
  {
   "cell_type": "markdown",
   "metadata": {
    "collapsed": false
   },
   "source": [
    "We start by loading a list of polynomials $f$ that represent the isomorphism classes of genus two curves over $\\mathbb{F}_5$. There are $285$ such isomorphism classes.\n"
   ]
  },
  {
   "cell_type": "code",
   "execution_count": 2,
   "metadata": {
    "collapsed": false
   },
   "outputs": [
    {
     "data": {
      "text/plain": [
       "285"
      ]
     },
     "execution_count": 2,
     "metadata": {
     },
     "output_type": "execute_result"
    }
   ],
   "source": [
    "Pol.<x> = GF(5)[]\n",
    "with open(\"curve-data/hyp_gen_2_F5.txt\") as file:\n",
    "    hyperelliptic_q5_g2 = sage_eval(file.read(), locals={'x': x})\n",
    "len(hyperelliptic_q5_g2)"
   ]
  },
  {
   "cell_type": "markdown",
   "metadata": {
    "collapsed": false
   },
   "source": [
    "## $(q,g,d)=(5,2,2)$\n",
    "We loop through all isomorphism classes of these genus two curves and check which ones admit double covers with relative class number two. We obtain $26$ such covers.\n",
    "\n"
   ]
  },
  {
   "cell_type": "code",
   "execution_count": 3,
   "metadata": {
    "collapsed": false
   },
   "outputs": [
    {
     "data": {
      "text/plain": [
       "26"
      ]
     },
     "execution_count": 3,
     "metadata": {
     },
     "output_type": "execute_result"
    }
   ],
   "source": [
    "q5_g2_d2 = []\n",
    "for f in hyperelliptic_q5_g2:\n",
    "    C = HyperellipticCurve(f)\n",
    "    F = magma(C).FunctionField().AlgorithmicFunctionField()\n",
    "    h = 0\n",
    "    for F1 in cyclic_covers(F, d=2, q=5):\n",
    "        if h == 0:\n",
    "            h = F.ClassNumber()\n",
    "        if F1.ClassNumber()/h == 2:\n",
    "            q5_g2_d2.append((F, F1))\n",
    "\n",
    "len(q5_g2_d2)"
   ]
  },
  {
   "cell_type": "markdown",
   "metadata": {
    "collapsed": false
   },
   "source": [
    "### $(q,g,d,q')=(5,2,2,3)$\n",
    "We check that $F'$ is in fact of genus three for all of these extensions.\n"
   ]
  },
  {
   "cell_type": "code",
   "execution_count": 5,
   "metadata": {
    "collapsed": false
   },
   "outputs": [
    {
     "data": {
      "text/plain": [
       "26"
      ]
     },
     "execution_count": 5,
     "metadata": {
     },
     "output_type": "execute_result"
    }
   ],
   "source": [
    "q5_g2_d2_gg3 = [ext for ext in q5_g2_d2 if ext[1].Genus() == 3]\n",
    "len(q5_g2_d2_gg3)"
   ]
  },
  {
   "cell_type": "markdown",
   "metadata": {
    "collapsed": false
   },
   "source": [
    "We proceed to save and print the tables."
   ]
  },
  {
   "cell_type": "code",
   "execution_count": 10,
   "metadata": {
    "collapsed": false
   },
   "outputs": [
    {
     "name": "stdout",
     "output_type": "stream",
     "text": [
      "Table tables/table_q5_g2_d2_gg3.txt saved!\n"
     ]
    }
   ],
   "source": [
    "save_table_from_F1_F_list(q5_g2_d2_gg3,5,2,2,3)"
   ]
  },
  {
   "cell_type": "code",
   "execution_count": 11,
   "metadata": {
    "collapsed": false
   },
   "outputs": [
    {
     "name": "stdout",
     "output_type": "stream",
     "text": [
      "\\begin{table}[ht] \n",
      "    \\setlength{\\arrayrulewidth}{0.2mm}\n",
      "    \\setlength{\\tabcolsep}{5pt} \n",
      "    \\renewcommand{\\arraystretch}{1.2}\n",
      "    \\centering \n",
      "    \\begin{tabular}{|c|c|}\n",
      "        \\hline\n",
      "        \\rowcolor{headercolor}\n",
      "        $J$ & $F$ \\\\\n",
      "        \\hline\n",
      "        \\avlink{2.5.c_e} & $y^{2} + 4 x^{6} + 2 x^{5} + 2 x^{4} + x^{3} + 2 x^{2} + 4 x + 3$ \\\\\n",
      "        \\hline\n",
      "        \\avlink{2.5.ac_e} & $y^{2} + 3 x^{6} + 4 x^{5} + 4 x^{4} + 2 x^{3} + 4 x^{2} + 3 x + 1$ \\\\\n",
      "        \\hline\n",
      "        \\avlink{2.5.c_i} & $y^{2} + 4 x^{6} + x^{5} + 4 x^{4} + 4 x^{2} + 3 x + 3$ \\\\\n",
      "        \\hline\n",
      "        \\avlink{2.5.ac_i} & $y^{2} + 3 x^{6} + 2 x^{5} + 3 x^{4} + 3 x^{2} + x + 1$ \\\\\n",
      "        \\hline\n",
      "        \\avlink{2.5.ac_k} & $y^{2} + 4 x^{6} + x^{5} + 3 x^{3} + x + 4$ \\\\\n",
      "        \\hline\n",
      "        \\avlink{2.5.c_k} & $y^{2} + 3 x^{6} + 2 x^{5} + x^{3} + 2 x + 3$ \\\\\n",
      "        \\hline\n",
      "        \\avlink{2.5.a_e} & $y^{2} + 4 x^{5} + x^{4} + x^{3} + x^{2} + x + 4$ \\\\\n",
      "        \\hline\n",
      "        \\avlink{2.5.a_e} & $y^{2} + 3 x^{5} + 2 x^{4} + 2 x^{3} + 2 x^{2} + 2 x + 3$ \\\\\n",
      "        \\hline\n",
      "        \\avlink{2.5.ac_c} & $y^{2} + 4 x^{5} + 3 x^{3} + 3 x + 3$ \\\\\n",
      "        \\hline\n",
      "        \\avlink{2.5.c_c} & $y^{2} + 3 x^{5} + x^{3} + x + 1$ \\\\\n",
      "        \\hline\n",
      "        \\avlink{2.5.c_g} & $y^{2} + 4 x^{5} + 3 x^{4} + 2 x^{3} + 3 x^{2} + 2 x + 1$ \\\\\n",
      "        \\hline\n",
      "        \\avlink{2.5.ac_g} & $y^{2} + 3 x^{5} + x^{4} + 4 x^{3} + x^{2} + 4 x + 2$ \\\\\n",
      "        \\hline\n",
      "        \\avlink{2.5.ac_k} & $y^{2} + 4 x^{5} + 2 x^{4} + 4 x^{3} + 2 x^{2} + 4 x$ \\\\\n",
      "        \\hline\n",
      "        \\avlink{2.5.c_k} & $y^{2} + 3 x^{5} + 4 x^{4} + 3 x^{3} + 4 x^{2} + 3 x$ \\\\\n",
      "        \\hline\n",
      "        \\avlink{2.5.a_a} & $y^{2} + 4 x^{6} + 2 x^{5} + 3 x + 1$ \\\\\n",
      "        \\hline\n",
      "        \\avlink{2.5.ac_g} & $y^{2} + 4 x^{5} + 4 x^{4} + x^{3} + 2 x^{2} + 2 x$ \\\\\n",
      "        \\hline\n",
      "        \\avlink{2.5.c_g} & $y^{2} + 3 x^{5} + 3 x^{4} + 2 x^{3} + 4 x^{2} + 4 x$ \\\\\n",
      "        \\hline\n",
      "        \\avlink{2.5.a_c} & $y^{2} + 4 x^{5} + 4 x^{4} + 2 x^{2} + 4 x$ \\\\\n",
      "        \\hline\n",
      "        \\avlink{2.5.a_c} & $y^{2} + 4 x^{5} + 4 x^{4} + x^{3} + 3 x^{2} + x$ \\\\\n",
      "        \\hline\n",
      "        \\avlink{2.5.a_k} & $y^{2} + 4 x^{5} + 4 x$ \\\\\n",
      "        \\hline\n",
      "        \\avlink{2.5.a_k} & $y^{2} + 4 x^{5} + 4 x$ \\\\\n",
      "        \\hline\n",
      "        \\avlink{2.5.a_g} & $y^{2} + 4 x^{6} + 3 x^{4} + x^{2} + 2$ \\\\\n",
      "        \\hline\n",
      "        \\avlink{2.5.a_g} & $y^{2} + 4 x^{6} + 3 x^{4} + x^{2} + 2$ \\\\\n",
      "        \\hline\n",
      "        \\avlink{2.5.c_c} & $y^{2} + 4 x^{6} + 4 x^{5} + 4 x^{4} + x^{2} + x + 1$ \\\\\n",
      "        \\hline\n",
      "        \\avlink{2.5.ac_c} & $y^{2} + 3 x^{6} + 3 x^{5} + 3 x^{4} + 2 x^{2} + 2 x + 2$ \\\\\n",
      "        \\hline\n",
      "        \\avlink{2.5.a_ac} & $y^{2} + 4 x^{6} + 4 x^{5} + 3 x^{4} + x^{2} + x + 2$ \\\\\n",
      "        \\hline\n",
      "    \\end{tabular} \n",
      "\\caption{Purely geometric covers of type $(q,g,d,g') = (5,2,2,3)$.} \n",
      "\\label{tab:geometric_q5_g2_d2_g'3} \n",
      "\\end{table}\n"
     ]
    }
   ],
   "source": [
    "print(latex_table_from_F1_F_list(q5_g2_d2_gg3,5,2,2,3))"
   ]
  },
  {
   "cell_type": "code",
   "execution_count": 0,
   "metadata": {
    "collapsed": false
   },
   "outputs": [
   ],
   "source": [
   ]
  }
 ],
 "metadata": {
  "kernelspec": {
   "argv": [
    "sage",
    "--python",
    "-m",
    "sage.repl.ipython_kernel",
    "--matplotlib=inline",
    "-f",
    "{connection_file}"
   ],
   "display_name": "SageMath",
   "env": {
   },
   "language": "sagemath",
   "metadata": {
    "cocalc": {
     "description": "Open-source mathematical software system",
     "priority": 1,
     "url": "https://www.sagemath.org/"
    }
   },
   "name": "sagemath",
   "resource_dir": "/usr/local/share/jupyter/kernels/sagemath"
  }
 },
 "nbformat": 4,
 "nbformat_minor": 4
}