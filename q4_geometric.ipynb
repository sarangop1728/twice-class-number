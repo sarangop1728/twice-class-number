{
 "cells": [
  {
   "cell_type": "code",
   "execution_count": 3,
   "metadata": {
    "collapsed": false
   },
   "outputs": [
   ],
   "source": [
    "load(\"utils/cyclic_covers.sage\")\n",
    "load(\"utils/weil_poly_utils.sage\")\n",
    "load(\"utils/printing_tables.sage\")"
   ]
  },
  {
   "cell_type": "code",
   "execution_count": 4,
   "metadata": {
    "collapsed": false
   },
   "outputs": [
   ],
   "source": [
    "import re # Regular expression operations."
   ]
  },
  {
   "cell_type": "markdown",
   "metadata": {
    "collapsed": false
   },
   "source": [
    "# $(q,g) = (4,2)$\n",
    "We start by loading a list of isomorphism classes of hyperelliptic function fields $F$ of genus two, defined over $\\mathbb{F}_4$. There are $146$ such isomorphism classes."
   ]
  },
  {
   "cell_type": "code",
   "execution_count": 5,
   "metadata": {
    "collapsed": false
   },
   "outputs": [
    {
     "data": {
      "text/plain": [
       "146"
      ]
     },
     "execution_count": 5,
     "metadata": {
     },
     "output_type": "execute_result"
    }
   ],
   "source": [
    "q = 4\n",
    "k.<a> = GF(q)\n",
    "P.<x,y> = k[]\n",
    "Q.<z> = k[]\n",
    "z = Q.gen()\n",
    "q4_g2 = []\n",
    "with open(\"curve-data/equations_q4_g2.txt\") as f:\n",
    "    for i in range(3): # Ignore header lines\n",
    "        _ = f.readline()\n",
    "    for s in f:\n",
    "        s1 = re.match(r'\\{(.*)\\}\\|.*', s).groups()[0]\n",
    "        for s2 in s1.split(','):\n",
    "            s3, s4 = s2.split('=')\n",
    "            lhs, rhs = (sage_eval(t, locals={'a': a, 'x': x, 'y': y}) for t in (s3, s4))\n",
    "            lhs = (lhs - y^2) // y\n",
    "            C = HyperellipticCurve(rhs(z, 0), lhs(z, 0))\n",
    "            q4_g2.append(magma(C).FunctionField().AlgorithmicFunctionField())\n",
    "len(q4_g2)"
   ]
  },
  {
   "cell_type": "markdown",
   "metadata": {
    "collapsed": false
   },
   "source": [
    "## $(q,g,g') = (4,2,3)$\n",
    "\n",
    "We loop over this list and save the quadratic extensions with relative class number two with $g'=3$. We find $30$ such extensions.\n",
    "\n"
   ]
  },
  {
   "cell_type": "code",
   "execution_count": 6,
   "metadata": {
    "collapsed": false
   },
   "outputs": [
    {
     "data": {
      "text/plain": [
       "30"
      ]
     },
     "execution_count": 6,
     "metadata": {
     },
     "output_type": "execute_result"
    }
   ],
   "source": [
    "q4_g2_d2_gg3 = []\n",
    "for F in q4_g2:\n",
    "    h = 0\n",
    "    for F1 in cyclic_covers(F, d=2, q=4):\n",
    "        if h == 0:\n",
    "            h = F.ClassNumber()\n",
    "        if F1.ClassNumber()/h == 2:\n",
    "            assert F1.Genus() == 3\n",
    "            q4_g2_d2_gg3.append((F, F1))\n",
    "len(q4_g2_d2_gg3)"
   ]
  },
  {
   "cell_type": "markdown",
   "metadata": {
    "collapsed": false
   },
   "source": [
    "We proceed to save and print the tables."
   ]
  },
  {
   "cell_type": "code",
   "execution_count": 8,
   "metadata": {
    "collapsed": false
   },
   "outputs": [
    {
     "name": "stdout",
     "output_type": "stream",
     "text": [
      "Table tables/table_q4_g2_d2_gg3.txt saved!\n"
     ]
    },
    {
     "name": "stdout",
     "output_type": "stream",
     "text": [
      "\\begin{table}[ht] \n",
      "    \\setlength{\\arrayrulewidth}{0.2mm}\n",
      "    \\setlength{\\tabcolsep}{5pt} \n",
      "    \\renewcommand{\\arraystretch}{1.2}\n",
      "    \\centering \n",
      "    \\begin{tabular}{|c|c|}\n",
      "        \\hline\n",
      "        \\rowcolor{headercolor}\n",
      "        $J$ & $F$ \\\\\n",
      "        \\hline\n",
      "        \\avlink{2.4.ac_j} & $y^{2} + \\left(x^{2} + x\\right) y + x^{5} + x^{3} + x^{2} + x$ \\\\\n",
      "        \\hline\n",
      "        \\avlink{2.4.ac_j} & $y^{2} + \\left(x^{2} + x\\right) y + x^{5} + x^{3} + x^{2} + x$ \\\\\n",
      "        \\hline\n",
      "        \\avlink{2.4.ac_j} & $y^{2} + \\left(x^{2} + x\\right) y + x^{5} + x^{3} + x^{2} + x$ \\\\\n",
      "        \\hline\n",
      "        \\avlink{2.4.c_j} & $y^{2} + \\left(x^{2} + x\\right) y + x^{5} + a x^{4} + x^{3} + \\left(a + 1\\right) x^{2} + x$ \\\\\n",
      "        \\hline\n",
      "        \\avlink{2.4.c_j} & $y^{2} + \\left(x^{2} + x\\right) y + x^{5} + a x^{4} + x^{3} + \\left(a + 1\\right) x^{2} + x$ \\\\\n",
      "        \\hline\n",
      "        \\avlink{2.4.c_j} & $y^{2} + \\left(x^{2} + x\\right) y + x^{5} + a x^{4} + x^{3} + \\left(a + 1\\right) x^{2} + x$ \\\\\n",
      "        \\hline\n",
      "        \\avlink{2.4.ac_d} & $y^{2} + \\left(x^{2} + x + a\\right) y + a x^{5} + a x^{4} + a x^{2} + a$ \\\\\n",
      "        \\hline\n",
      "        \\avlink{2.4.ac_d} & $y^{2} + \\left(x^{2} + x + a + 1\\right) y + \\left(a + 1\\right) x^{5} + a x^{4} + a x^{2} + 1$ \\\\\n",
      "        \\hline\n",
      "        \\avlink{2.4.ac_b} & $y^{2} + \\left(x^{2} + x\\right) y + x^{5} + \\left(a + 1\\right) x^{2} + a x$ \\\\\n",
      "        \\hline\n",
      "        \\avlink{2.4.a_ab} & $y^{2} + \\left(x^{2} + x\\right) y + a x^{5} + a x^{3} + x^{2} + x$ \\\\\n",
      "        \\hline\n",
      "        \\avlink{2.4.a_ab} & $y^{2} + \\left(x^{2} + x\\right) y + \\left(a + 1\\right) x^{5} + \\left(a + 1\\right) x^{3} + x^{2} + x$ \\\\\n",
      "        \\hline\n",
      "        \\avlink{2.4.a_b} & $y^{2} + \\left(x^{2} + x + a\\right) y + a x^{5} + a x^{3} + x^{2} + a$ \\\\\n",
      "        \\hline\n",
      "        \\avlink{2.4.a_b} & $y^{2} + \\left(x^{2} + x + a + 1\\right) y + \\left(a + 1\\right) x^{5} + \\left(a + 1\\right) x^{3} + x^{2} + a + 1$ \\\\\n",
      "        \\hline\n",
      "        \\avlink{2.4.a_d} & $y^{2} + \\left(x^{2} + x\\right) y + \\left(a + 1\\right) x^{5} + \\left(a + 1\\right) x^{3} + a x^{2} + a x$ \\\\\n",
      "        \\hline\n",
      "        \\avlink{2.4.a_d} & $y^{2} + \\left(x^{2} + x\\right) y + \\left(a + 1\\right) x^{5} + \\left(a + 1\\right) x^{3} + a x^{2} + a x$ \\\\\n",
      "        \\hline\n",
      "        \\avlink{2.4.a_d} & $y^{2} + \\left(x^{2} + x\\right) y + a x^{5} + a x^{3} + \\left(a + 1\\right) x^{2} + \\left(a + 1\\right) x$ \\\\\n",
      "        \\hline\n",
      "        \\avlink{2.4.a_d} & $y^{2} + \\left(x^{2} + x\\right) y + a x^{5} + a x^{3} + \\left(a + 1\\right) x^{2} + \\left(a + 1\\right) x$ \\\\\n",
      "        \\hline\n",
      "        \\avlink{2.4.a_h} & $y^{2} + \\left(x^{2} + x + a\\right) y + x^{5} + x^{3} + x^{2} + a x + a$ \\\\\n",
      "        \\hline\n",
      "        \\avlink{2.4.a_h} & $y^{2} + \\left(x^{2} + x + a\\right) y + x^{5} + a x^{4} + x^{3} + \\left(a + 1\\right) x^{2} + a x + a + 1$ \\\\\n",
      "        \\hline\n",
      "        \\avlink{2.4.ac_f} & $y^{2} + \\left(x^{2} + x + a + 1\\right) y + x^{5} + a x^{4} + a x^{3} + a x^{2} + \\left(a + 1\\right) x + 1$ \\\\\n",
      "        \\hline\n",
      "        \\avlink{2.4.ac_f} & $y^{2} + \\left(x^{2} + x + a\\right) y + x^{5} + a x^{4} + \\left(a + 1\\right) x^{3} + a x^{2} + a x + a$ \\\\\n",
      "        \\hline\n",
      "        \\avlink{2.4.ac_h} & $y^{2} + \\left(x^{2} + x + a + 1\\right) y + a x^{5} + x^{3} + a x + a$ \\\\\n",
      "        \\hline\n",
      "        \\avlink{2.4.ac_h} & $y^{2} + \\left(x^{2} + x + a\\right) y + \\left(a + 1\\right) x^{5} + x^{3} + \\left(a + 1\\right) x + a + 1$ \\\\\n",
      "        \\hline\n",
      "        \\avlink{2.4.c_b} & $y^{2} + \\left(x^{2} + x\\right) y + x^{5} + \\left(a + 1\\right) x^{4} + a x$ \\\\\n",
      "        \\hline\n",
      "        \\avlink{2.4.c_d} & $y^{2} + \\left(x^{2} + x + a\\right) y + a x^{5} + a + 1$ \\\\\n",
      "        \\hline\n",
      "        \\avlink{2.4.c_d} & $y^{2} + \\left(x^{2} + x + a + 1\\right) y + \\left(a + 1\\right) x^{5} + a$ \\\\\n",
      "        \\hline\n",
      "        \\avlink{2.4.c_f} & $y^{2} + \\left(x^{2} + x + a + 1\\right) y + x^{5} + a x^{3} + \\left(a + 1\\right) x + a$ \\\\\n",
      "        \\hline\n",
      "        \\avlink{2.4.c_f} & $y^{2} + \\left(x^{2} + x + a\\right) y + x^{5} + \\left(a + 1\\right) x^{3} + a x + a + 1$ \\\\\n",
      "        \\hline\n",
      "        \\avlink{2.4.c_h} & $y^{2} + \\left(x^{2} + x + a + 1\\right) y + a x^{5} + \\left(a + 1\\right) x^{4} + x^{3} + \\left(a + 1\\right) x^{2} + a x + a + 1$ \\\\\n",
      "        \\hline\n",
      "        \\avlink{2.4.c_h} & $y^{2} + \\left(x^{2} + x + a\\right) y + \\left(a + 1\\right) x^{5} + a x^{4} + x^{3} + a x^{2} + \\left(a + 1\\right) x + a$ \\\\\n",
      "        \\hline\n",
      "    \\end{tabular} \n",
      "\\caption{Purely geometric covers of type $(q,g,d,g') = (4,2,2,3)$.} \n",
      "\\label{tab:geometric_q4_g2_d2_g'3} \n",
      "\\end{table}\n"
     ]
    }
   ],
   "source": [
    "save_table_from_F1_F_list(q4_g2_d2_gg3,4,2,2,3)\n",
    "print(latex_table_from_F1_F_list(q4_g2_d2_gg3,4,2,2,3))"
   ]
  },
  {
   "cell_type": "markdown",
   "metadata": {
    "collapsed": false
   },
   "source": [
    "## $(q,g,g') = (4,2,4)$\n",
    "\n",
    "We loop over this list, restricting to fields corresponding to curves $C$ with $\\#C(\\mathbb{F}_4) \\geq 7$, and save the quadratic extensions with relative class number two with $g'=4$. We find 1 such extension.\n",
    "\n"
   ]
  },
  {
   "cell_type": "code",
   "execution_count": 7,
   "metadata": {
    "collapsed": false
   },
   "outputs": [
    {
     "data": {
      "text/plain": [
       "1"
      ]
     },
     "execution_count": 7,
     "metadata": {
     },
     "output_type": "execute_result"
    }
   ],
   "source": [
    "q4_g2_d2_gg4 = []\n",
    "for F in q4_g2:\n",
    "    if F.NumberOfPlacesOfDegreeOneECF(1) < 7:\n",
    "        continue\n",
    "    h = 0\n",
    "    for F1 in cyclic_covers(F, d=2, t=1, q=4):\n",
    "        if h == 0:\n",
    "            h = F.ClassNumber()\n",
    "        if F1.ClassNumber()/h == 2:\n",
    "            assert F1.Genus() == 4\n",
    "            q4_g2_d2_gg4.append((F, F1))\n",
    "len(q4_g2_d2_gg4)"
   ]
  },
  {
   "cell_type": "markdown",
   "metadata": {
    "collapsed": false
   },
   "source": [
    "We proceed to save and print the tables."
   ]
  },
  {
   "cell_type": "code",
   "execution_count": 18,
   "metadata": {
    "collapsed": false
   },
   "outputs": [
    {
     "name": "stdout",
     "output_type": "stream",
     "text": [
      "Table tables/table_q4_g2_d2_gg4.txt saved!\n"
     ]
    },
    {
     "name": "stdout",
     "output_type": "stream",
     "text": [
      "\\begin{table}[ht] \n",
      "    \\setlength{\\arrayrulewidth}{0.2mm}\n",
      "    \\setlength{\\tabcolsep}{5pt} \n",
      "    \\renewcommand{\\arraystretch}{1.2}\n",
      "    \\centering \n",
      "    \\begin{tabular}{|c|c|}\n",
      "        \\hline\n",
      "        \\rowcolor{headercolor}\n",
      "        $J$ & $F$ \\\\\n",
      "        \\hline\n",
      "        \\avlink{2.4.d_i} & $y^{2} + x y + x^{5} + x^{3} + x$ \\\\\n",
      "        \\hline\n",
      "    \\end{tabular} \n",
      "\\caption{Purely geometric covers of type $(q,g,d,g') = (4,2,2,4)$.} \n",
      "\\label{tab:geometric_q4_g2_d2_g'4} \n",
      "\\end{table}\n"
     ]
    }
   ],
   "source": [
    "save_table_from_F1_F_list(q4_g2_d2_gg4,4,2,2,4)\n",
    "print(latex_table_from_F1_F_list(q4_g2_d2_gg4,4,2,2,4))"
   ]
  },
  {
   "cell_type": "markdown",
   "metadata": {
    "collapsed": false
   },
   "source": [
    "# $(q,g) = (4,3)$\n",
    "We start by loading a list of isomorphism classes of function fields $F$ of genus three, defined over $\\mathbf{F}_4$, and retaining only those corresponding to curves $C$ for which $\\#C(\\mathbb{F}_3) \\geq 7$ and $\\#C(\\mathbb{F}_{3^2}) \\geq 2\\#C(\\mathbb{F}_3) + 9$. There are $608$ such isomorphism classes."
   ]
  },
  {
   "cell_type": "code",
   "execution_count": 5,
   "metadata": {
    "collapsed": false
   },
   "outputs": [
    {
     "data": {
      "text/plain": [
       "608"
      ]
     },
     "execution_count": 5,
     "metadata": {
     },
     "output_type": "execute_result"
    }
   ],
   "source": [
    "q = 4\n",
    "k.<a> = GF(q)\n",
    "Pol2.<x,y> = k[]\n",
    "Pol1.<z> = k[]\n",
    "AA = magma.AffineSpace(Pol2)\n",
    "z = Pol1.gen()\n",
    "q4_g3 = []\n",
    "R.<b> = QQ[]\n",
    "with open(\"curve-data/equations_q4_g3.txt\") as line:\n",
    "    for i in range(3): # Ignore header lines\n",
    "        _ = line.readline()\n",
    "    for s in line:\n",
    "        m = re.match(r'\\{(.*)\\}\\|(.*)', s)\n",
    "        label = m.groups()[1]\n",
    "        counts = point_count_from_weil_poly(weil_poly_from_label(R, label), 2, 4)\n",
    "        if not (counts[0] >= 7 and counts[1] >= 2*counts[0]+9):\n",
    "            continue\n",
    "        s1 = m.groups()[0]\n",
    "        for s2 in s1.split(','):\n",
    "            result = re.search(r'=', s2)\n",
    "            if result: # the hyperelliptic case\n",
    "                lhs, f = s2.split('=')\n",
    "                h = re.match(r'y\\^2\\s*\\+\\s*(.*?)\\s*\\*?\\s*y',lhs).group(1)\n",
    "                f = sage_eval(f, locals={'a': a, 'x': x, 'y': y})\n",
    "                h = sage_eval(h, locals={'a': a, 'x': x, 'y': y})\n",
    "                f = Pol2(f)\n",
    "                h = Pol2(h)\n",
    "                C = HyperellipticCurve(f(z,0), h(z,0))\n",
    "                q4_g3.append(magma(C).FunctionField().AlgorithmicFunctionField())\n",
    "            else: # the non-hyperelliptic case\n",
    "                g = sage_eval(s2, locals={'a': a, 'x': x, 'y': y, 'z': 1})\n",
    "                C = magma.Curve(AA, g)\n",
    "                q4_g3.append(C.FunctionField().AlgorithmicFunctionField())\n",
    "len(q4_g3)"
   ]
  },
  {
   "cell_type": "markdown",
   "metadata": {
    "collapsed": false
   },
   "source": [
    "## $(q,g,g') = (4,3,5)$\n",
    "\n",
    "We loop over this list and save the quadratic extensions with relative class number two and $g'=5$. We find $5$ such extensions. \n",
    "\n"
   ]
  },
  {
   "cell_type": "code",
   "execution_count": 6,
   "metadata": {
    "collapsed": false
   },
   "outputs": [
    {
     "name": "stdout",
     "output_type": "stream",
     "text": [
      "Algebraic function field defined over Univariate rational function field over GF(2^2) by\n",
      "$.1^2 + (a*z^3 + a*z^2)*$.1 + z^7 + z^6 + a^2*z^2 + a^2*z\n"
     ]
    },
    {
     "name": "stdout",
     "output_type": "stream",
     "text": [
      "Algebraic function field defined over Univariate rational function field over GF(2^2) by\n",
      "$.1^2 + (a*z^3 + a*z^2)*$.1 + a^2*z^7 + a^2*z^2 + a^2*z\n"
     ]
    },
    {
     "name": "stdout",
     "output_type": "stream",
     "text": [
      "Algebraic function field defined over Univariate rational function field over GF(2^2) by\n",
      "$.1^2 + (a^2*z^4 + a*z^3 + a*z^2)*$.1 + a^2*z + a\n"
     ]
    },
    {
     "name": "stdout",
     "output_type": "stream",
     "text": [
      "Algebraic function field defined over Univariate rational function field over GF(2^2) by\n",
      "$.1^2 + (a^2*z^4 + a*z^3 + a*z^2)*$.1 + a^2*z^2 + a^2*z\n"
     ]
    },
    {
     "name": "stdout",
     "output_type": "stream",
     "text": [
      "Algebraic function field defined over Univariate rational function field over GF(2^2) by\n",
      "$.1^2 + (a^2*z^4 + a*z^3 + a*z^2)*$.1 + z^3 + a*z^2 + a^2*z + a\n"
     ]
    },
    {
     "data": {
      "text/plain": [
       "5"
      ]
     },
     "execution_count": 6,
     "metadata": {
     },
     "output_type": "execute_result"
    }
   ],
   "source": [
    "q4_g3_d2_gg5 = []\n",
    "for F in q4_g3:\n",
    "    h = 0\n",
    "    for F1 in cyclic_covers(F, d=2, q=4):\n",
    "        if h == 0:\n",
    "            h = F.ClassNumber()\n",
    "        if F1.ClassNumber()/h == 2:\n",
    "            q4_g3_d2_gg5.append((F, F1))\n",
    "            print(F)\n",
    "len(q4_g3_d2_gg5)"
   ]
  },
  {
   "cell_type": "markdown",
   "metadata": {
    "collapsed": false
   },
   "source": [
    "We proceed to save and print the tables."
   ]
  },
  {
   "cell_type": "code",
   "execution_count": 7,
   "metadata": {
    "collapsed": false
   },
   "outputs": [
    {
     "name": "stdout",
     "output_type": "stream",
     "text": [
      "Table tables/table_q4_g3_d2_gg5.txt saved!\n"
     ]
    },
    {
     "name": "stdout",
     "output_type": "stream",
     "text": [
      "\\begin{table}[ht] \n",
      "    \\setlength{\\arrayrulewidth}{0.2mm}\n",
      "    \\setlength{\\tabcolsep}{5pt} \n",
      "    \\renewcommand{\\arraystretch}{1.2}\n",
      "    \\centering \n",
      "    \\begin{tabular}{|c|c|}\n",
      "        \\hline\n",
      "        \\rowcolor{headercolor}\n",
      "        $J$ & $F$ \\\\\n",
      "        \\hline\n",
      "        \\avlink{3.4.c_f_e} & $y^{2} + \\left(a x^{3} + a x^{2}\\right) y + x^{7} + x^{6} + \\left(a + 1\\right) x^{2} + \\left(a + 1\\right) x$ \\\\\n",
      "        \\hline\n",
      "        \\avlink{3.4.c_f_u} & $y^{2} + \\left(a x^{3} + a x^{2}\\right) y + \\left(a + 1\\right) x^{7} + \\left(a + 1\\right) x^{2} + \\left(a + 1\\right) x$ \\\\\n",
      "        \\hline\n",
      "        \\avlink{3.4.c_h_m} & $y^{2} + \\left(\\left(a + 1\\right) x^{4} + a x^{3} + a x^{2}\\right) y + \\left(a + 1\\right) x + a$ \\\\\n",
      "        \\hline\n",
      "        \\avlink{3.4.c_h_m} & $y^{2} + \\left(\\left(a + 1\\right) x^{4} + a x^{3} + a x^{2}\\right) y + \\left(a + 1\\right) x^{2} + \\left(a + 1\\right) x$ \\\\\n",
      "        \\hline\n",
      "        \\avlink{3.4.e_n_bc} & $y^{2} + \\left(\\left(a + 1\\right) x^{4} + a x^{3} + a x^{2}\\right) y + x^{3} + a x^{2} + \\left(a + 1\\right) x + a$ \\\\\n",
      "        \\hline\n",
      "    \\end{tabular} \n",
      "\\caption{Purely geometric covers of type $(q,g,d,g') = (4,3,2,5)$.} \n",
      "\\label{tab:geometric_q4_g3_d2_g'5} \n",
      "\\end{table}\n"
     ]
    }
   ],
   "source": [
    "save_table_from_F1_F_list(q4_g3_d2_gg5,4,3,2,5)\n",
    "print(latex_table_from_F1_F_list(q4_g3_d2_gg5,4,3,2,5))"
   ]
  }
 ],
 "metadata": {
  "kernelspec": {
   "argv": [
    "sage",
    "--python",
    "-m",
    "sage.repl.ipython_kernel",
    "--matplotlib=inline",
    "-f",
    "{connection_file}"
   ],
   "display_name": "SageMath",
   "env": {
   },
   "language": "sagemath",
   "metadata": {
    "cocalc": {
     "description": "Open-source mathematical software system",
     "priority": 1,
     "url": "https://www.sagemath.org/"
    }
   },
   "name": "sagemath",
   "resource_dir": "/usr/local/share/jupyter/kernels/sagemath"
  },
  "language_info": {
   "codemirror_mode": {
    "name": "ipython",
    "version": 3
   },
   "file_extension": ".py",
   "mimetype": "text/x-python",
   "name": "python",
   "nbconvert_exporter": "python",
   "pygments_lexer": "ipython3",
   "version": "3.11.1"
  }
 },
 "nbformat": 4,
 "nbformat_minor": 4
}