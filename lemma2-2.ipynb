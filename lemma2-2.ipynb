{
 "cells": [
  {
   "cell_type": "code",
   "execution_count": 3,
   "metadata": {
    "collapsed": false
   },
   "outputs": [
   ],
   "source": [
    "RIF = RealIntervalField()"
   ]
  },
  {
   "cell_type": "markdown",
   "metadata": {
    "collapsed": false
   },
   "source": [
    "## Proof of Lemma 2.2\n",
    "We verify that the following inequality holds in the interval $x \\in [-2\\sqrt{2},2\\sqrt{2}]$.\n",
    "$$x + 0.2456 (x^2-4) + 0.0887 (x^3-6x) + 0.0295 (x^4-8x+8) \\geq 1.1691 - 1.9169 \\log (3-x),$$"
   ]
  },
  {
   "cell_type": "code",
   "execution_count": 43,
   "metadata": {
    "collapsed": false,
    "scrolled": true
   },
   "outputs": [
    {
     "data": {
      "image/png": "[encoded data removed]",
      "text/plain": [
       "Graphics object consisting of 2 graphics primitives"
      ]
     },
     "execution_count": 43,
     "metadata": {
     },
     "output_type": "execute_result"
    }
   ],
   "source": [
    "var('x')\n",
    "F(x) = x + 0.2456*(x^2-4) + 0.0887*(x^3-6*x) + 0.0295*(x^4-8*x^2+8)-1.1691+1.9169*log(3-x)\n",
    "plot(F(x), (x, -2.83, 2.83), color='deeppink') + point([(-2*sqrt(2), 0), (2*sqrt(2), 0)], size=20, color='blue')"
   ]
  },
  {
   "cell_type": "code",
   "execution_count": 44,
   "metadata": {
    "collapsed": false
   },
   "outputs": [
   ],
   "source": [
    "def eval_rigor(c):\n",
    "    P.<t> = RIF[]\n",
    "    if (3 - c).lower() <= 0:  # Check if the lower bound of c makes log undefined\n",
    "        raise ValueError(\"Input c is out of domain for log(3-t). Ensure c < 3.\")\n",
    "    F = t + RIF(0.2456)*(t^2-4) + RIF(0.0887)*(t^3-6*t) + RIF(0.0295)*(t^4-8*t^2+8) - RIF(1.1691) + RIF(1.9169)*log(3-t)\n",
    "    return F.subs(t=c)"
   ]
  },
  {
   "cell_type": "markdown",
   "metadata": {
    "collapsed": false
   },
   "source": [
    "Positive at the endpoints."
   ]
  },
  {
   "cell_type": "code",
   "execution_count": 50,
   "metadata": {
    "collapsed": false
   },
   "outputs": [
    {
     "data": {
      "text/plain": [
       "(0.09811996123936?, 0.00048003876064?)"
      ]
     },
     "execution_count": 50,
     "metadata": {
     },
     "output_type": "execute_result"
    }
   ],
   "source": [
    "eval_rigor(RIF(-sqrt(8))),  eval_rigor(RIF(sqrt(8)))"
   ]
  },
  {
   "cell_type": "code",
   "execution_count": 45,
   "metadata": {
    "collapsed": false
   },
   "outputs": [
    {
     "data": {
      "text/plain": [
       "x |--> 0.118000000000000*x^3 + 0.266100000000000*x^2 + 0.0192000000000001*x + 1.91690000000000/(x - 3) + 0.467800000000000"
      ]
     },
     "execution_count": 45,
     "metadata": {
     },
     "output_type": "execute_result"
    }
   ],
   "source": [
    "F.derivative()"
   ]
  },
  {
   "cell_type": "markdown",
   "metadata": {
    "collapsed": false
   },
   "source": [
    "$F'(x) = p(x) + c/(x-3)$, so we have that $F'(x) = 0$ if and only if $(x-3)p(x) + c = 0$."
   ]
  },
  {
   "cell_type": "code",
   "execution_count": 7,
   "metadata": {
    "collapsed": false
   },
   "outputs": [
    {
     "data": {
      "text/plain": [
       "[(-2.35383901848490, 1),\n",
       " (-0.618343227622023, 1),\n",
       " (1.17712740616477, 1),\n",
       " (2.53997009417945, 1)]"
      ]
     },
     "execution_count": 7,
     "metadata": {
     },
     "output_type": "execute_result"
    }
   ],
   "source": [
    "P.<t> = RR[]\n",
    "g = (t - 3)*(0.118000000000000*t^3 + 0.266100000000000*t^2 + 0.0192000000000001*t + 0.467800000000000) + 1.91690000000000\n",
    "l = g.roots()\n",
    "l"
   ]
  },
  {
   "cell_type": "markdown",
   "metadata": {
    "collapsed": false
   },
   "source": [
    "We check that $(x-3)p(x)+c$ has a sign change within $0.00001$ of each of the reported roots. This confirms rigorously that the actual roots are within these neighborhoods.\n"
   ]
  },
  {
   "cell_type": "code",
   "execution_count": 16,
   "metadata": {
    "collapsed": false
   },
   "outputs": [
    {
     "data": {
      "text/plain": [
       "[(0.00003538757519?, -0.00003538682233?),\n",
       " (-0.000011612891863?, 0.000011612822795?),\n",
       " (0.000010195280241?, -0.000010195301938?),\n",
       " (-0.00002485561561?, 0.00002485623936?)]"
      ]
     },
     "execution_count": 16,
     "metadata": {
     },
     "output_type": "execute_result"
    }
   ],
   "source": [
    "PI.<ti> = RIF[]\n",
    "gi = (ti - 3)*(RIF(0.1180)*ti^3 + RIF(0.2661)*ti^2 + RIF(0.0192)*ti + RIF(0.4678)) + RIF(1.91690)\n",
    "[(gi.subs(ti=RIF(c-0.00001)), gi.subs(ti=RIF(c+0.00001))) for c, _ in l]"
   ]
  },
  {
   "cell_type": "markdown",
   "metadata": {
    "collapsed": false
   },
   "source": [
    "We verify that $F(x)$ is positive in neighborhoods of the critical points. "
   ]
  },
  {
   "cell_type": "code",
   "execution_count": 61,
   "metadata": {
    "collapsed": false
   },
   "outputs": [
    {
     "data": {
      "text/plain": [
       "[0.0016?, 0.2475?, 0.0007?, 0.528?]"
      ]
     },
     "execution_count": 61,
     "metadata": {
     },
     "output_type": "execute_result"
    }
   ],
   "source": [
    "[eval_rigor(RIF(c-0.00001, c+0.00001)) for (c, _) in l]"
   ]
  }
 ],
 "metadata": {
  "kernelspec": {
   "argv": [
    "sage",
    "--python",
    "-m",
    "sage.repl.ipython_kernel",
    "--matplotlib=inline",
    "-f",
    "{connection_file}"
   ],
   "display_name": "SageMath",
   "env": {
   },
   "language": "sagemath",
   "metadata": {
    "cocalc": {
     "description": "Open-source mathematical software system",
     "priority": 1,
     "url": "https://www.sagemath.org/"
    }
   },
   "name": "sagemath",
   "resource_dir": "/usr/local/share/jupyter/kernels/sagemath"
  },
  "language_info": {
   "codemirror_mode": {
    "name": "ipython",
    "version": 3
   },
   "file_extension": ".py",
   "mimetype": "text/x-python",
   "name": "python",
   "nbconvert_exporter": "python",
   "pygments_lexer": "ipython3",
   "version": "3.11.1"
  }
 },
 "nbformat": 4,
 "nbformat_minor": 4
}