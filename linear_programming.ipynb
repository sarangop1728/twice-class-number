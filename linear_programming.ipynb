{
 "cells": [
  {
   "cell_type": "markdown",
   "metadata": {
    "collapsed": false
   },
   "source": [
    "Implement the functions $\\psi_d$ associated to a trigonometric polynomial $f(\\theta)$ as per equation (5.3.4) in Serre, *Rational Points on Curves over Finite Fields*. Namely, for\n",
    "$$\n",
    "f(\\theta) = 1 + 2 \\sum_{n=1}^\\infty c_n \\cos n\\theta\n",
    "$$\n",
    "(input as the list `l` consisting of $c_1, c_2,\\dots$) we have\n",
    "$$\n",
    "\\psi_d(t) = \\sum_{n \\equiv 0 \\pmod{d}} c_n t^n.\n",
    "$$\n",
    "\n"
   ]
  },
  {
   "cell_type": "code",
   "execution_count": 4,
   "metadata": {
    "collapsed": false
   },
   "outputs": [
   ],
   "source": [
    "RIF = RealIntervalField()"
   ]
  },
  {
   "cell_type": "code",
   "execution_count": 8,
   "metadata": {
    "collapsed": false
   },
   "outputs": [
   ],
   "source": [
    "def psi(t, x, d=1):\n",
    "    P.<z> = LaurentPolynomialRing(RIF)\n",
    "    c = 1 + 2*sum(i^2 for i in x)\n",
    "    f = 1/c*(1 + sum(x[i]*(z^(i+1)+z^(-i-1)) for i in range(len(x))))^2\n",
    "    e = f.degree()\n",
    "    s = f.coefficients()\n",
    "    return sum(RIF(t)^i*s[e+i] for i in range(1, e+1) if i%d==0)"
   ]
  },
  {
   "cell_type": "markdown",
   "metadata": {
    "collapsed": false
   },
   "source": [
    "Apply Serre, Theorem 5.3.3 to compute constants in a bound of the form\n",
    "$$a_1 + b_2 (2a_2) + b_3 (3a_3) + b_4 (4a_4) \\leq b_0 g + b_1$$\n",
    "where $a_i$ is the number of degree $i$\\-places on some curve of genus $g$ over $\\mathbb{F}_2$. For convenience, in practice we will round $b_0$ and $b_1$ up and round $b_2,b_3,b_4$ down.\n",
    "\n",
    "$$\n",
    "b_0 = 1/\\psi(2^{-1/2}), \\quad b_1 = 1 + \\psi(2^{1/2})/\\psi(2^{-1/2}), \\quad b_2 = \\psi_2(2^{-1/2})/\\psi(2^{-1/2}), \\quad b_3 = \\psi_3(2^{-1/2})/\\psi(2^{-1/2}),\\quad b_4 = \\psi_4(2^{-1/2})/\\psi(2^{-1/2}).\n",
    "$$\n",
    "\n"
   ]
  },
  {
   "cell_type": "code",
   "execution_count": 9,
   "metadata": {
    "collapsed": false
   },
   "outputs": [
   ],
   "source": [
    "def serre_bound(x):\n",
    "    lhs = [psi(1/2^RIF(0.5), x, i)/psi(1/2^RIF(0.5), x) for i in range(1,5)]\n",
    "    rhs = [1/psi(1/2^RIF(0.5), x), psi(2^RIF(0.5), x)/psi(1/2^RIF(0.5), x)+1]\n",
    "    return (lhs, rhs)"
   ]
  },
  {
   "cell_type": "markdown",
   "metadata": {
    "collapsed": false
   },
   "source": [
    "Using Serre's recommended parameters for $g < 10$ we obtain:$$a_1 + 0.3310(2a_2) + 0.1304(3a_3) + 0.0452(4a_4) \\leq 0.8296 g + 5.3453$$\n"
   ]
  },
  {
   "cell_type": "code",
   "execution_count": 10,
   "metadata": {
    "collapsed": false
   },
   "outputs": [
    {
     "data": {
      "text/plain": [
       "([1.00000000000000?,\n",
       "  0.33109237990806?,\n",
       "  0.130483171876192?,\n",
       "  0.045264549634128?],\n",
       " [0.82595088321150?, 5.3452734670778?])"
      ]
     },
     "execution_count": 10,
     "metadata": {
     },
     "output_type": "execute_result"
    }
   ],
   "source": [
    "serre_bound([RIF(1), RIF(0.7), RIF(0.2)])"
   ]
  },
  {
   "cell_type": "markdown",
   "metadata": {
    "collapsed": false
   },
   "source": [
    "Using Serre's recommended parameters for $10 \\leq g \\leq 25$ we obtain:$$a_1 + 0.3443(2a_2) + 0.1428(3a_3) + 0.0589(4a_4) \\leq 0.7656 g + 5.9662$$\n",
    "\n"
   ]
  },
  {
   "cell_type": "code",
   "execution_count": 11,
   "metadata": {
    "collapsed": false
   },
   "outputs": [
    {
     "data": {
      "text/plain": [
       "([1.00000000000000?,\n",
       "  0.34433388326380?,\n",
       "  0.142881619080142?,\n",
       "  0.058949004884954?],\n",
       " [0.76554045533028?, 5.9661684654329?])"
      ]
     },
     "execution_count": 11,
     "metadata": {
     },
     "output_type": "execute_result"
    }
   ],
   "source": [
    "serre_bound([RIF(1.05), RIF(0.8), RIF(0.4)])"
   ]
  },
  {
   "cell_type": "markdown",
   "metadata": {
    "collapsed": false
   },
   "source": [
    "Using Serre's recommended parameters for $g > 25$ we obtain:$$a_1 + 0.3708(2a_2) + 0.1741(3a_3) + 0.0854(4a_4) \\leq 0.6272 g + 9.5616$$\n"
   ]
  },
  {
   "cell_type": "code",
   "execution_count": 12,
   "metadata": {
    "collapsed": false
   },
   "outputs": [
    {
     "data": {
      "text/plain": [
       "([1.00000000000000?, 0.37089008853059?, 0.17416852125061?, 0.085446029302246?],\n",
       " [0.62719147281649?, 9.5615230711725?])"
      ]
     },
     "execution_count": 12,
     "metadata": {
     },
     "output_type": "execute_result"
    }
   ],
   "source": [
    "serre_bound([RIF(1), RIF(0.8), RIF(0.6), RIF(0.4), RIF(0.1)])"
   ]
  },
  {
   "cell_type": "markdown",
   "metadata": {
    "collapsed": false
   },
   "source": [
    "Using the parameters $1, 0.8, 0.6$ we obtain Lemma 2.4:\n",
    "$$a_1 + 0.3542(2a_2) + 0.1524(3a_3) +0.0677(4a_4) \\leq 0.7365g + 6.5441$$\n"
   ]
  },
  {
   "cell_type": "code",
   "execution_count": 13,
   "metadata": {
    "collapsed": false
   },
   "outputs": [
    {
     "data": {
      "text/plain": [
       "([1.00000000000000?,\n",
       "  0.354246283896227?,\n",
       "  0.152443664095530?,\n",
       "  0.067756045984310?],\n",
       " [0.73647876069902?, 6.5440633231589?])"
      ]
     },
     "execution_count": 13,
     "metadata": {
     },
     "output_type": "execute_result"
    }
   ],
   "source": [
    "serre_bound([RIF(1), RIF(0.8), RIF(0.6)])"
   ]
  }
 ],
 "metadata": {
  "kernelspec": {
   "argv": [
    "sage",
    "--python",
    "-m",
    "sage.repl.ipython_kernel",
    "--matplotlib=inline",
    "-f",
    "{connection_file}"
   ],
   "display_name": "SageMath",
   "env": {
   },
   "language": "sagemath",
   "metadata": {
    "cocalc": {
     "description": "Open-source mathematical software system",
     "priority": 1,
     "url": "https://www.sagemath.org/"
    }
   },
   "name": "sagemath",
   "resource_dir": "/usr/local/share/jupyter/kernels/sagemath"
  },
  "language_info": {
   "codemirror_mode": {
    "name": "ipython",
    "version": 3
   },
   "file_extension": ".py",
   "mimetype": "text/x-python",
   "name": "python",
   "nbconvert_exporter": "python",
   "pygments_lexer": "ipython3",
   "version": "3.11.1"
  }
 },
 "nbformat": 4,
 "nbformat_minor": 4
}